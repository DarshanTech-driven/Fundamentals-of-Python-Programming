{
 "cells": [
  {
   "cell_type": "code",
   "execution_count": 2,
   "id": "57499da3-3759-4e55-a1b8-3baf1f500612",
   "metadata": {},
   "outputs": [],
   "source": [
    "import csv"
   ]
  },
  {
   "cell_type": "code",
   "execution_count": 3,
   "id": "3e4d855a-17c7-4e91-a1cd-89fcacdb69e0",
   "metadata": {},
   "outputs": [],
   "source": [
    "expenses = []\n",
    "monthly_budget = 0"
   ]
  },
  {
   "cell_type": "code",
   "execution_count": 4,
   "id": "77a04f4b-0a64-4702-a95d-b47e809fa0a2",
   "metadata": {},
   "outputs": [],
   "source": [
    "def add_expense():\n",
    "    date = input(\"Enter date (YYYY-MM-DD): \")\n",
    "    category = input(\"Enter category (e.g., Food, Travel): \")\n",
    "    amount = float(input(\"Enter amount: \"))\n",
    "    description = input(\"Enter description: \")\n",
    "    expenses.append({\n",
    "        \"date\": date,\n",
    "        \"category\": category,\n",
    "        \"amount\": amount,\n",
    "        \"description\": description\n",
    "    })\n",
    "    print(\"Expense added.\\n\")"
   ]
  },
  {
   "cell_type": "code",
   "execution_count": 5,
   "id": "f57526b5-e17e-45fd-8763-e42265838f3b",
   "metadata": {},
   "outputs": [],
   "source": [
    "def view_expenses():\n",
    "    if not expenses:\n",
    "        print(\"No expenses recorded.\\n\")\n",
    "        return\n",
    "    print(\"Your Expenses:\")\n",
    "    for exp in expenses:\n",
    "        if all(k in exp for k in (\"date\", \"category\", \"amount\", \"description\")):\n",
    "            print(f'{exp[\"date\"]} | {exp[\"category\"]} | ₹{exp[\"amount\"]} | {exp[\"description\"]}')\n",
    "    print()"
   ]
  },
  {
   "cell_type": "code",
   "execution_count": 6,
   "id": "38a605fb-7bb2-4e9e-8f29-7f2811261ff1",
   "metadata": {},
   "outputs": [],
   "source": [
    "def set_budget():\n",
    "    global monthly_budget\n",
    "    monthly_budget = float(input(\"Set your monthly budget: ₹\"))\n",
    "    print(\"Budget set.\\n\")"
   ]
  },
  {
   "cell_type": "code",
   "execution_count": 7,
   "id": "236e6846-6501-4222-be6d-7e3ccbb8afd0",
   "metadata": {},
   "outputs": [],
   "source": [
    "def track_budget():\n",
    "    total_expense = sum(exp['amount'] for exp in expenses)\n",
    "    print(f\"Total expenses so far: ₹{total_expense}\")\n",
    "    if monthly_budget:\n",
    "        if total_expense > monthly_budget:\n",
    "            print(\"Warning: You have exceeded your budget!\")\n",
    "        else:\n",
    "            print(f\"Remaining budget: ₹{monthly_budget - total_expense}\")\n",
    "    print()"
   ]
  },
  {
   "cell_type": "code",
   "execution_count": 8,
   "id": "808adbad-c534-4d94-a71b-bd8a7c1d2ef4",
   "metadata": {},
   "outputs": [],
   "source": [
    "def save_expenses():\n",
    "    with open(\"expenses.csv\", \"w\", newline='', encoding=\"utf-8\") as f:\n",
    "        writer = csv.DictWriter(f, fieldnames=[\"date\", \"category\", \"amount\", \"description\"])\n",
    "        writer.writeheader()\n",
    "        for exp in expenses:\n",
    "            writer.writerow(exp)\n",
    "    print(\"Expenses saved to CSV.\\n\")"
   ]
  },
  {
   "cell_type": "code",
   "execution_count": 9,
   "id": "a68e8d26-da34-4044-b393-9d026261c600",
   "metadata": {},
   "outputs": [],
   "source": [
    "def load_expenses():\n",
    "    try:\n",
    "        with open(\"expenses.csv\", \"r\", encoding=\"utf-8\") as f:\n",
    "            reader = csv.DictReader(f)\n",
    "            for row in reader:\n",
    "                expenses.append({\n",
    "                    \"date\": row[\"date\"],\n",
    "                    \"category\": row[\"category\"],\n",
    "                    \"amount\": float(row[\"amount\"]),\n",
    "                    \"description\": row[\"description\"]\n",
    "                })\n",
    "        print(\"Previous expenses loaded.\\n\")\n",
    "    except FileNotFoundError:\n",
    "        print(\"No previous expense data found.\\n\")"
   ]
  },
  {
   "cell_type": "code",
   "execution_count": 11,
   "id": "177ecc41-69b2-4fa7-b2fd-418814a787cf",
   "metadata": {},
   "outputs": [
    {
     "name": "stdout",
     "output_type": "stream",
     "text": [
      "Previous expenses loaded.\n",
      "\n",
      "--- Menu ---\n",
      "1. Add Expense\n",
      "2. View Expenses\n",
      "3. Set Budget\n",
      "4. Track Budget\n",
      "5. Save Expenses\n",
      "6. Exit\n"
     ]
    },
    {
     "name": "stdin",
     "output_type": "stream",
     "text": [
      "Choose an option (1-6):  1\n",
      "Enter date (YYYY-MM-DD):  2025-09-29\n",
      "Enter category (e.g., Food, Travel):  entertainment\n",
      "Enter amount:  350\n",
      "Enter description:  navaratri pass\n"
     ]
    },
    {
     "name": "stdout",
     "output_type": "stream",
     "text": [
      "Expense added.\n",
      "\n",
      "--- Menu ---\n",
      "1. Add Expense\n",
      "2. View Expenses\n",
      "3. Set Budget\n",
      "4. Track Budget\n",
      "5. Save Expenses\n",
      "6. Exit\n"
     ]
    },
    {
     "name": "stdin",
     "output_type": "stream",
     "text": [
      "Choose an option (1-6):  2\n"
     ]
    },
    {
     "name": "stdout",
     "output_type": "stream",
     "text": [
      "Your Expenses:\n",
      "2025-09-29 | entertainment | ₹350.0 | navaratri pass\n",
      "\n",
      "--- Menu ---\n",
      "1. Add Expense\n",
      "2. View Expenses\n",
      "3. Set Budget\n",
      "4. Track Budget\n",
      "5. Save Expenses\n",
      "6. Exit\n"
     ]
    },
    {
     "name": "stdin",
     "output_type": "stream",
     "text": [
      "Choose an option (1-6):  3\n",
      "Set your monthly budget: ₹ 26000\n"
     ]
    },
    {
     "name": "stdout",
     "output_type": "stream",
     "text": [
      "Budget set.\n",
      "\n",
      "--- Menu ---\n",
      "1. Add Expense\n",
      "2. View Expenses\n",
      "3. Set Budget\n",
      "4. Track Budget\n",
      "5. Save Expenses\n",
      "6. Exit\n"
     ]
    },
    {
     "name": "stdin",
     "output_type": "stream",
     "text": [
      "Choose an option (1-6):  4\n"
     ]
    },
    {
     "name": "stdout",
     "output_type": "stream",
     "text": [
      "Total expenses so far: ₹350.0\n",
      "Remaining budget: ₹25650.0\n",
      "\n",
      "--- Menu ---\n",
      "1. Add Expense\n",
      "2. View Expenses\n",
      "3. Set Budget\n",
      "4. Track Budget\n",
      "5. Save Expenses\n",
      "6. Exit\n"
     ]
    },
    {
     "name": "stdin",
     "output_type": "stream",
     "text": [
      "Choose an option (1-6):  5\n"
     ]
    },
    {
     "name": "stdout",
     "output_type": "stream",
     "text": [
      "Expenses saved to CSV.\n",
      "\n",
      "--- Menu ---\n",
      "1. Add Expense\n",
      "2. View Expenses\n",
      "3. Set Budget\n",
      "4. Track Budget\n",
      "5. Save Expenses\n",
      "6. Exit\n"
     ]
    },
    {
     "name": "stdin",
     "output_type": "stream",
     "text": [
      "Choose an option (1-6):  6\n"
     ]
    },
    {
     "name": "stdout",
     "output_type": "stream",
     "text": [
      "Expenses saved to CSV.\n",
      "\n",
      "Exiting the program.\n"
     ]
    }
   ],
   "source": [
    "def menu():\n",
    "    load_expenses()\n",
    "    while True:\n",
    "        print(\"--- Menu ---\")\n",
    "        print(\"1. Add Expense\")\n",
    "        print(\"2. View Expenses\")\n",
    "        print(\"3. Set Budget\")\n",
    "        print(\"4. Track Budget\")\n",
    "        print(\"5. Save Expenses\")\n",
    "        print(\"6. Exit\")\n",
    "        choice = input(\"Choose an option (1-6): \")\n",
    "        if choice == '1': add_expense()\n",
    "        elif choice == '2': view_expenses()\n",
    "        elif choice == '3': set_budget()\n",
    "        elif choice == '4': track_budget()\n",
    "        elif choice == '5': save_expenses()\n",
    "        elif choice == '6':\n",
    "            save_expenses()\n",
    "            print(\"Exiting the program.\")\n",
    "            break\n",
    "        else:\n",
    "            print(\"Invalid option.\\n\")\n",
    "\n",
    "if __name__ == \"__main__\":\n",
    "    menu()"
   ]
  },
  {
   "cell_type": "code",
   "execution_count": null,
   "id": "3d2d69d5-4f7e-4177-8b10-1f8dae40412b",
   "metadata": {},
   "outputs": [],
   "source": []
  }
 ],
 "metadata": {
  "kernelspec": {
   "display_name": "Python [conda env:base] *",
   "language": "python",
   "name": "conda-base-py"
  },
  "language_info": {
   "codemirror_mode": {
    "name": "ipython",
    "version": 3
   },
   "file_extension": ".py",
   "mimetype": "text/x-python",
   "name": "python",
   "nbconvert_exporter": "python",
   "pygments_lexer": "ipython3",
   "version": "3.13.5"
  }
 },
 "nbformat": 4,
 "nbformat_minor": 5
}
